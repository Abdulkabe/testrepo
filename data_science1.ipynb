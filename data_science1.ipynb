{
 "cells": [
  {
   "cell_type": "markdown",
   "id": "7ea4fb0c-7f3f-4599-97a5-5be32c78e077",
   "metadata": {
    "tags": []
   },
   "source": [
    "<h1> My Jupyter notebook on IBM Watson Studio </h1>"
   ]
  },
  {
   "cell_type": "markdown",
   "id": "9c9fc374-61de-47ee-a5dc-e7caf41c1e8c",
   "metadata": {},
   "source": [
    " **Abdul Kabeer Khan**"
   ]
  },
  {
   "cell_type": "markdown",
   "id": "9aa6d680-3eb9-419e-8227-2347650d8e89",
   "metadata": {},
   "source": [
    "*Iam internested in data science because it is one of the demanding field. also personally like statistics alot so i wanted to integrate it with the current technology*"
   ]
  },
  {
   "cell_type": "markdown",
   "id": "1a4b7be7-1605-401a-8641-a08a171c0c23",
   "metadata": {},
   "source": [
    "<h3>summation of two numbers</h3>"
   ]
  },
  {
   "cell_type": "code",
   "execution_count": 2,
   "id": "391a0b17-115b-41ce-bbaa-b672d31fc2da",
   "metadata": {},
   "outputs": [
    {
     "data": {
      "text/plain": [
       "2"
      ]
     },
     "execution_count": 2,
     "metadata": {},
     "output_type": "execute_result"
    }
   ],
   "source": [
    "1+1"
   ]
  },
  {
   "cell_type": "markdown",
   "id": "75a4e923-7439-4ae7-9706-694a12cd8d63",
   "metadata": {},
   "source": [
    "<strike> yahoo </strike>\n",
    "\n",
    "<a href=\"www.google.com\">google</a>\n",
    "\n",
    "|heading1|heading2|\n",
    "|----|----|\n",
    "|city name|country name|\n",
    "\n"
   ]
  },
  {
   "cell_type": "code",
   "execution_count": null,
   "id": "a7ff38e9-1c54-4b6d-b5d5-8941d934d298",
   "metadata": {},
   "outputs": [],
   "source": []
  }
 ],
 "metadata": {
  "kernelspec": {
   "display_name": "Python",
   "language": "python",
   "name": "conda-env-python-py"
  },
  "language_info": {
   "codemirror_mode": {
    "name": "ipython",
    "version": 3
   },
   "file_extension": ".py",
   "mimetype": "text/x-python",
   "name": "python",
   "nbconvert_exporter": "python",
   "pygments_lexer": "ipython3",
   "version": "3.7.12"
  }
 },
 "nbformat": 4,
 "nbformat_minor": 5
}
